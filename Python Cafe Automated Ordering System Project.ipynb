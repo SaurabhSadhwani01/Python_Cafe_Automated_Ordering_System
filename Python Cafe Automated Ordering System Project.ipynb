{
 "cells": [
  {
   "cell_type": "markdown",
   "id": "4dfd8553-6aaa-4825-b0c8-6b0c6ba0fec9",
   "metadata": {},
   "source": [
    "# Saurabh Sadhwani RMgX  AI/ML Assignment (Jupyter Notebook)"
   ]
  },
  {
   "cell_type": "markdown",
   "id": "a098841f-9b77-4a9f-a736-946b138f0f7e",
   "metadata": {},
   "source": [
    "## Biscotti Cafe Automated (1 Order at a time)"
   ]
  },
  {
   "cell_type": "code",
   "execution_count": 1,
   "id": "71a926f3-2877-49e3-b332-48506578ef46",
   "metadata": {},
   "outputs": [
    {
     "name": "stdout",
     "output_type": "stream",
     "text": [
      "\n",
      "Welcome to Biscotti Cafe!\n"
     ]
    },
    {
     "name": "stdin",
     "output_type": "stream",
     "text": [
      "Enter table number between 1-6, or press 'q' to leave :  1\n"
     ]
    },
    {
     "name": "stdout",
     "output_type": "stream",
     "text": [
      "\n",
      "Biscotti Cafe Menu : \n",
      "Coffee : Rs.80\n",
      "Tea : Rs.30\n",
      "Juice : Rs.45\n",
      "Sandwich : Rs.95\n",
      "Burger : Rs.65\n",
      "Fries : Rs.50\n",
      "Cake : Rs.250\n",
      "\n",
      "What would you like to order ? \n"
     ]
    },
    {
     "name": "stdin",
     "output_type": "stream",
     "text": [
      "Enter your Order in the given format (item1 quantity, item2 quantity ) : Sandwich 4\n"
     ]
    },
    {
     "name": "stdout",
     "output_type": "stream",
     "text": [
      "Added 4 of Sandwich to Table 1 order.\n"
     ]
    },
    {
     "name": "stdin",
     "output_type": "stream",
     "text": [
      "\n",
      "Would you like to Order again (yes/no) ? yes\n"
     ]
    },
    {
     "name": "stdout",
     "output_type": "stream",
     "text": [
      "\n",
      "What would you like to order ? \n"
     ]
    },
    {
     "name": "stdin",
     "output_type": "stream",
     "text": [
      "Enter your Order in the given format (item1 quantity, item2 quantity ) : Tea 1\n"
     ]
    },
    {
     "name": "stdout",
     "output_type": "stream",
     "text": [
      "Added 1 of Tea to Table 1 order.\n"
     ]
    },
    {
     "name": "stdin",
     "output_type": "stream",
     "text": [
      "\n",
      "Would you like to Order again (yes/no) ? no\n"
     ]
    },
    {
     "name": "stdout",
     "output_type": "stream",
     "text": [
      "Bill for Table Number 1 is : \n",
      "Sandwich x 4 = Rs.380.00\n",
      "\n",
      "Tea x 1 = Rs.30.00\n",
      "Your Total Bill = Rs.410.00\n",
      "Have a Great Day! Visit Again!\n",
      "\n",
      "Closing Table '1'.\n",
      "\n",
      "Welcome to Biscotti Cafe!\n"
     ]
    },
    {
     "name": "stdin",
     "output_type": "stream",
     "text": [
      "Enter table number between 1-6, or press 'q' to leave :  q\n"
     ]
    },
    {
     "name": "stdout",
     "output_type": "stream",
     "text": [
      "\n",
      "Thankyou for Visiting Biscotti Cafe. Have a Great Day!\n"
     ]
    }
   ],
   "source": [
    "#class cafe with 2 functions : 1.For Opening Order ; 2.Closing Order\n",
    "class Cafe:\n",
    "    def __init__(self, menu):\n",
    "        self.menu = menu\n",
    "        self.tables = {i: Table(i) for i in range(1, 7)} # Initializing 6 Tables\n",
    "\n",
    "    #Function for Opening Order and Checking if It's in the range of 1 to 6\n",
    "    def open_order(self, table_number):\n",
    "        if table_number in self.tables:\n",
    "            print(\"\\nBiscotti Cafe Menu : \")\n",
    "            for item, price in self.menu.items():\n",
    "                print(f\"{item} : Rs.{price}\")\n",
    "            return self.tables[table_number]\n",
    "        else:\n",
    "            raise ValueError(\"\\nInvalid Table Number, Please select a Table between 1 to 6.\")\n",
    "\n",
    "    #Function for Closing the Order and Calculating Final Bill\n",
    "    def close_order(self, table_number):\n",
    "        if table_number in self.tables:\n",
    "            table = self.tables[table_number]\n",
    "            bill = table.get_bill(self.menu)\n",
    "            self.tables[table_number] = Table(table_number)\n",
    "            return bill\n",
    "        else:\n",
    "            raise ValueError(\"\\nInvalid Table Number, Please select a Table between 1 to 6.\")\n",
    "\n",
    "#class Table with 2 Functions : 1.To Add Orders ; 2.To Generate Calculated Bill\n",
    "class Table:\n",
    "    def __init__(self, table_number):\n",
    "        self.table_number = table_number\n",
    "        self.orders = {} #Dictionary to store order with food menu(key) and there quantity(value).\n",
    "\n",
    "#Function to Add Order if it Exists in Menu\n",
    "    def add_order(self, item, quantity, menu):\n",
    "        if item in menu:\n",
    "            if quantity > 0: #Edge Case : Quantity Cannot be in Negative i.e Burger -1 - Not Allowed\n",
    "                if item in self.orders:\n",
    "                    self.orders[item] += quantity\n",
    "                else:\n",
    "                    self.orders[item] = quantity\n",
    "            else:\n",
    "                raise ValueError(\"\\nQuantity Cannot be in Negative.\")\n",
    "        else:\n",
    "            raise ValueError(f\"\\nItem '{item}' is not on the menu. Please Select your Order from Menu.\")\n",
    "\n",
    "#Function to Gernerate Bill\n",
    "    def get_bill(self, menu):\n",
    "        total = 0\n",
    "        bill_details = []\n",
    "        for item, quantity in self.orders.items():\n",
    "            if item in menu:\n",
    "                item_total = menu[item] * quantity\n",
    "                total += item_total\n",
    "                bill_details.append(f\"\\n{item} x {quantity} = Rs.{item_total:.2f}\")\n",
    "            else:\n",
    "                bill_details.append(f\"{item} x {quantity} = Price not found\")\n",
    "        bill_details.append(f\"Your Total Bill = Rs.{total:.2f}\")\n",
    "        return \"\\n\".join(bill_details)\n",
    "\n",
    "\n",
    "#Main Function strats Here :\n",
    "def main():\n",
    "    #Biscotti Cafe Menu\n",
    "    menu = {\n",
    "        'Coffee': 80,\n",
    "        'Tea': 30,\n",
    "        'Juice': 45,\n",
    "        \"Sandwich\": 95,\n",
    "        'Burger': 65,\n",
    "        'Fries': 50,\n",
    "        'Cake': 250\n",
    "    }\n",
    "    cafe = Cafe(menu)\n",
    "\n",
    "    while True:\n",
    "        print(\"\\nWelcome to Biscotti Cafe!\")\n",
    "        choice = input(\"Enter table number between 1-6, or press 'q' to leave : \")\n",
    "\n",
    "        if choice.lower() == 'q':\n",
    "            print(\"\\nThankyou for Visiting Biscotti Cafe. Have a Great Day!\")\n",
    "            break\n",
    "\n",
    "        try:\n",
    "            table_number = int(choice)\n",
    "            table = cafe.open_order(table_number) #Order Opens\n",
    "\n",
    "            while True:\n",
    "                print(\"\\nWhat would you like to order ? \")\n",
    "                action = input(\"Enter your Order in the given format (item1 quantity, item2 quantity ) :\")\n",
    "                try:\n",
    "                    orders = action.split(',') #Splitting input after ',' boundary using split()\n",
    "                    for order in orders:\n",
    "                        item, quantity = order.strip().split() #Also removing whitespaces using strip()\n",
    "                        item = item.strip()\n",
    "                        quantity = int(quantity.strip())\n",
    "\n",
    "                        if item not in menu:\n",
    "                            raise ValueError(f\"\\nItem '{item}' is not on the menu.\")\n",
    "                        table.add_order(item, quantity, menu)\n",
    "                        print(f\"Added {quantity} of {item} to Table {table_number} order.\")\n",
    "\n",
    "#Asking User Again if they want to Order :\n",
    "                    while True:\n",
    "                        next_action = input(\"\\nWould you like to Order again (yes/no) ?\").strip().lower()\n",
    "                        if next_action == 'yes':\n",
    "                            break #It they want to - we continue to ordering exiting this loop\n",
    "                        elif next_action == 'no':\n",
    "                            bill = cafe.close_order(table_number)\n",
    "                            print(f\"Bill for Table Number {table_number} is : {bill}\")\n",
    "                            print(f\"Have a Great Day! Visit Again!\")\n",
    "                            break #If they do not want to we generate bill and say Bye and exit loop\n",
    "                        else:\n",
    "                            print(\"\\nInvalid Input, Please Try Again (write in lower cases)\")\n",
    "                            continue\n",
    "\n",
    "                    if next_action == 'no': #If without ordering they say no we say Bye and exit inner loop\n",
    "                        break\n",
    "\n",
    "#Except - if user does not enter order in expected format\n",
    "                except ValueError as e:\n",
    "                    print(e)\n",
    "\n",
    "            print(f\"\\nClosing Table '{table_number}'.\")\n",
    "\n",
    "#Except - if table number is not in range of 1 to 6\n",
    "        except ValueError:\n",
    "            print(\"\\nPlease enter a valid Table Number between 1 to 6 or press 'q' (in lower case) to quit. Thankyou!\")\n",
    "\n",
    "#Running on Main Functions script\n",
    "if __name__ == \"__main__\":\n",
    "    main()\n",
    "\n",
    "#Scope in main function provided to add Multiple Ordering"
   ]
  }
 ],
 "metadata": {
  "kernelspec": {
   "display_name": "Python 3 (ipykernel)",
   "language": "python",
   "name": "python3"
  },
  "language_info": {
   "codemirror_mode": {
    "name": "ipython",
    "version": 3
   },
   "file_extension": ".py",
   "mimetype": "text/x-python",
   "name": "python",
   "nbconvert_exporter": "python",
   "pygments_lexer": "ipython3",
   "version": "3.11.7"
  },
  "widgets": {
   "application/vnd.jupyter.widget-state+json": {
    "state": {},
    "version_major": 2,
    "version_minor": 0
   }
  }
 },
 "nbformat": 4,
 "nbformat_minor": 5
}
